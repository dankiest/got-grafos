{
 "cells": [
  {
   "cell_type": "code",
   "execution_count": 15,
   "metadata": {},
   "outputs": [],
   "source": [
    "import glob\n",
    "import re"
   ]
  },
  {
   "cell_type": "code",
   "execution_count": 13,
   "metadata": {},
   "outputs": [],
   "source": [
    "caminho = 'genius/*/*.txt'\n",
    "arquivos = glob.glob(caminho)\n",
    "\n",
    "got = {}\n",
    "for arquivo in sorted(arquivos):\n",
    "    chave = arquivo[-14:-4]\n",
    "\n",
    "    with open(arquivo, 'r', encoding = 'utf-8') as f:\n",
    "        texto = f.read()\n",
    "\n",
    "    got[chave] = texto\n"
   ]
  },
  {
   "cell_type": "code",
   "execution_count": 73,
   "metadata": {},
   "outputs": [],
   "source": [
    "got['got_s01e01']\n",
    "all_persons = []"
   ]
  },
  {
   "cell_type": "code",
   "execution_count": 74,
   "metadata": {},
   "outputs": [],
   "source": [
    "pattern = r'\\n\\n([A-Za-z\\s]+:)'\n",
    "\n",
    "matchs = re.findall(pattern, got['got_s01e02'])\n",
    "\n",
    "for match in matchs:\n",
    "    if match not in all_persons:\n",
    "        all_persons.append(match)\n",
    "\n"
   ]
  },
  {
   "cell_type": "code",
   "execution_count": 54,
   "metadata": {},
   "outputs": [
    {
     "data": {
      "text/plain": [
       "['WAYMAR ROYCE:',\n",
       " 'WILL:',\n",
       " 'GARED:',\n",
       " 'ROYCE:',\n",
       " 'JON:',\n",
       " 'SANSA:',\n",
       " 'SEPTA MORDANE:',\n",
       " 'NED:',\n",
       " 'ROBB:',\n",
       " 'CASSEL:',\n",
       " 'CATELYN:',\n",
       " 'BRAN:',\n",
       " 'THEON:',\n",
       " 'JAIME:',\n",
       " 'CERSEI:',\n",
       " 'MAESTER LUWIN:',\n",
       " 'LUWIN:',\n",
       " 'ROBERT:',\n",
       " 'ARYA:',\n",
       " 'TYRION:',\n",
       " 'ROS:',\n",
       " 'VISERYS:',\n",
       " 'DAENERYS:',\n",
       " 'MAID:',\n",
       " 'ILLYRIO:',\n",
       " 'BENJEN:',\n",
       " 'A VOICE:',\n",
       " 'JORAH:',\n",
       " 'KHAL DROGO:',\n",
       " 'THE HOUND:']"
      ]
     },
     "execution_count": 54,
     "metadata": {},
     "output_type": "execute_result"
    }
   ],
   "source": [
    "all_persons"
   ]
  },
  {
   "cell_type": "code",
   "execution_count": 75,
   "metadata": {},
   "outputs": [],
   "source": [
    "persons_spoken = []\n",
    "for person in all_persons:\n",
    "    person_spoken = {\n",
    "        'person': person[:-1],\n",
    "        'spokes_of': []\n",
    "    }\n",
    "    person_lines = [line for line in got['got_s01e02'].split('\\n\\n') if (line.startswith(person))]\n",
    "    person_spoken['qtd_lines'] = len(person_lines)\n",
    "    for line in person_lines:\n",
    "        for spoken in all_persons:\n",
    "            if spoken[:-1] in line and spoken != person and spoken[:-1] not in person_spoken['spokes_of']:\n",
    "                person_spoken['spokes_of'].append(spoken[:-1])\n",
    "\n",
    "    persons_spoken.append(person_spoken)\n",
    "\n",
    "    "
   ]
  },
  {
   "cell_type": "code",
   "execution_count": 76,
   "metadata": {},
   "outputs": [
    {
     "data": {
      "text/plain": [
       "[{'person': 'Jorah Mormont', 'spokes_of': [], 'qtd_lines': 3},\n",
       " {'person': 'Daenerys Targaryen', 'spokes_of': ['Doreah'], 'qtd_lines': 2},\n",
       " {'person': 'Doreah', 'spokes_of': ['Daenerys Targaryen'], 'qtd_lines': 3},\n",
       " {'person': 'Joffrey Baratheon',\n",
       "  'spokes_of': ['Tyrion Lannister'],\n",
       "  'qtd_lines': 1},\n",
       " {'person': 'Tyrion Lannister',\n",
       "  'spokes_of': ['Cersei Baratheon', 'Jaime Lannister'],\n",
       "  'qtd_lines': 1},\n",
       " {'person': 'Cersei Baratheon',\n",
       "  'spokes_of': ['Catelyn Stark'],\n",
       "  'qtd_lines': 1},\n",
       " {'person': 'Jaime Lannister', 'spokes_of': ['Jon Snow'], 'qtd_lines': 1},\n",
       " {'person': 'Arya Stark',\n",
       "  'spokes_of': ['Jon Snow',\n",
       "   'Joffrey Baratheon',\n",
       "   'Sansa Stark',\n",
       "   'Cersei Baratheon',\n",
       "   'Eddard Stark',\n",
       "   'Robert Baratheon',\n",
       "   'Mycah'],\n",
       "  'qtd_lines': 5},\n",
       " {'person': 'Jon Snow', 'spokes_of': ['Catelyn Stark'], 'qtd_lines': 1},\n",
       " {'person': 'Catelyn Stark',\n",
       "  'spokes_of': ['Eddard Stark',\n",
       "   'Robert Baratheon',\n",
       "   'Robb Stark',\n",
       "   'Maester Luwin'],\n",
       "  'qtd_lines': 2},\n",
       " {'person': 'Robb Stark', 'spokes_of': ['Jon Snow'], 'qtd_lines': 1},\n",
       " {'person': 'Eddard Stark', 'spokes_of': ['Jon Snow'], 'qtd_lines': 2},\n",
       " {'person': 'Robert Baratheon',\n",
       "  'spokes_of': ['Daenerys Targaryen', 'Eddard Stark'],\n",
       "  'qtd_lines': 1},\n",
       " {'person': 'Benjen Stark',\n",
       "  'spokes_of': ['Tyrion Lannister', 'Jon Snow'],\n",
       "  'qtd_lines': 2},\n",
       " {'person': 'Maester Luwin',\n",
       "  'spokes_of': ['Catelyn Stark', 'Robb Stark'],\n",
       "  'qtd_lines': 1},\n",
       " {'person': 'Assassin', 'spokes_of': ['Catelyn Stark'], 'qtd_lines': 1},\n",
       " {'person': 'Sansa Stark', 'spokes_of': ['Joffrey Baratheon'], 'qtd_lines': 1},\n",
       " {'person': 'Mycah',\n",
       "  'spokes_of': ['Joffrey Baratheon', 'Arya Stark', 'Sansa Stark'],\n",
       "  'qtd_lines': 1},\n",
       " {'person': 'Jory Cassel', 'spokes_of': ['Eddard Stark'], 'qtd_lines': 1}]"
      ]
     },
     "execution_count": 76,
     "metadata": {},
     "output_type": "execute_result"
    }
   ],
   "source": [
    "persons_spoken"
   ]
  },
  {
   "cell_type": "code",
   "execution_count": 78,
   "metadata": {},
   "outputs": [],
   "source": [
    "for person in persons_spoken:\n",
    "    person['has_been_mentioned'] = len([p for p in persons_spoken if person['person'] in p['spokes_of']])\n",
    "\n"
   ]
  },
  {
   "cell_type": "code",
   "execution_count": 79,
   "metadata": {},
   "outputs": [
    {
     "data": {
      "text/plain": [
       "[{'person': 'Jorah Mormont',\n",
       "  'spokes_of': [],\n",
       "  'qtd_lines': 3,\n",
       "  'has_been_spoken': 0},\n",
       " {'person': 'Daenerys Targaryen',\n",
       "  'spokes_of': ['Doreah'],\n",
       "  'qtd_lines': 2,\n",
       "  'has_been_spoken': 2},\n",
       " {'person': 'Doreah',\n",
       "  'spokes_of': ['Daenerys Targaryen'],\n",
       "  'qtd_lines': 3,\n",
       "  'has_been_spoken': 1},\n",
       " {'person': 'Joffrey Baratheon',\n",
       "  'spokes_of': ['Tyrion Lannister'],\n",
       "  'qtd_lines': 1,\n",
       "  'has_been_spoken': 3},\n",
       " {'person': 'Tyrion Lannister',\n",
       "  'spokes_of': ['Cersei Baratheon', 'Jaime Lannister'],\n",
       "  'qtd_lines': 1,\n",
       "  'has_been_spoken': 2},\n",
       " {'person': 'Cersei Baratheon',\n",
       "  'spokes_of': ['Catelyn Stark'],\n",
       "  'qtd_lines': 1,\n",
       "  'has_been_spoken': 2},\n",
       " {'person': 'Jaime Lannister',\n",
       "  'spokes_of': ['Jon Snow'],\n",
       "  'qtd_lines': 1,\n",
       "  'has_been_spoken': 1},\n",
       " {'person': 'Arya Stark',\n",
       "  'spokes_of': ['Jon Snow',\n",
       "   'Joffrey Baratheon',\n",
       "   'Sansa Stark',\n",
       "   'Cersei Baratheon',\n",
       "   'Eddard Stark',\n",
       "   'Robert Baratheon',\n",
       "   'Mycah'],\n",
       "  'qtd_lines': 5,\n",
       "  'has_been_spoken': 1},\n",
       " {'person': 'Jon Snow',\n",
       "  'spokes_of': ['Catelyn Stark'],\n",
       "  'qtd_lines': 1,\n",
       "  'has_been_spoken': 5},\n",
       " {'person': 'Catelyn Stark',\n",
       "  'spokes_of': ['Eddard Stark',\n",
       "   'Robert Baratheon',\n",
       "   'Robb Stark',\n",
       "   'Maester Luwin'],\n",
       "  'qtd_lines': 2,\n",
       "  'has_been_spoken': 4},\n",
       " {'person': 'Robb Stark',\n",
       "  'spokes_of': ['Jon Snow'],\n",
       "  'qtd_lines': 1,\n",
       "  'has_been_spoken': 2},\n",
       " {'person': 'Eddard Stark',\n",
       "  'spokes_of': ['Jon Snow'],\n",
       "  'qtd_lines': 2,\n",
       "  'has_been_spoken': 4},\n",
       " {'person': 'Robert Baratheon',\n",
       "  'spokes_of': ['Daenerys Targaryen', 'Eddard Stark'],\n",
       "  'qtd_lines': 1,\n",
       "  'has_been_spoken': 2},\n",
       " {'person': 'Benjen Stark',\n",
       "  'spokes_of': ['Tyrion Lannister', 'Jon Snow'],\n",
       "  'qtd_lines': 2,\n",
       "  'has_been_spoken': 0},\n",
       " {'person': 'Maester Luwin',\n",
       "  'spokes_of': ['Catelyn Stark', 'Robb Stark'],\n",
       "  'qtd_lines': 1,\n",
       "  'has_been_spoken': 1},\n",
       " {'person': 'Assassin',\n",
       "  'spokes_of': ['Catelyn Stark'],\n",
       "  'qtd_lines': 1,\n",
       "  'has_been_spoken': 0},\n",
       " {'person': 'Sansa Stark',\n",
       "  'spokes_of': ['Joffrey Baratheon'],\n",
       "  'qtd_lines': 1,\n",
       "  'has_been_spoken': 2},\n",
       " {'person': 'Mycah',\n",
       "  'spokes_of': ['Joffrey Baratheon', 'Arya Stark', 'Sansa Stark'],\n",
       "  'qtd_lines': 1,\n",
       "  'has_been_spoken': 1},\n",
       " {'person': 'Jory Cassel',\n",
       "  'spokes_of': ['Eddard Stark'],\n",
       "  'qtd_lines': 1,\n",
       "  'has_been_spoken': 0}]"
      ]
     },
     "execution_count": 79,
     "metadata": {},
     "output_type": "execute_result"
    }
   ],
   "source": [
    "persons_spoken"
   ]
  }
 ],
 "metadata": {
  "kernelspec": {
   "display_name": ".venv",
   "language": "python",
   "name": "python3"
  },
  "language_info": {
   "codemirror_mode": {
    "name": "ipython",
    "version": 3
   },
   "file_extension": ".py",
   "mimetype": "text/x-python",
   "name": "python",
   "nbconvert_exporter": "python",
   "pygments_lexer": "ipython3",
   "version": "3.11.7"
  }
 },
 "nbformat": 4,
 "nbformat_minor": 2
}
